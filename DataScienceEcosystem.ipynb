{
 "cells": [
  {
   "cell_type": "markdown",
   "id": "a791bd6e-b71f-430c-a1bc-8fe704c8c5fb",
   "metadata": {},
   "source": [
    "# Data Science Tools and Ecosystem"
   ]
  },
  {
   "cell_type": "markdown",
   "id": "b2b60e28-2abf-4425-ae9b-13072c616c1b",
   "metadata": {},
   "source": [
    "## In this notebook, Data Science Tools and Ecosystem are summarized. "
   ]
  },
  {
   "cell_type": "markdown",
   "id": "bb675573-ce1e-4757-ab62-33e2a638eadc",
   "metadata": {},
   "source": [
    "## **Objectives:**"
   ]
  },
  {
   "cell_type": "markdown",
   "id": "12bd395b-08ee-45ec-8bc1-fb3893690623",
   "metadata": {},
   "source": [
    "- List popular languages for Data Science\n",
    "- List of commonly used Libraries for Data Scientists\n",
    "- List of popular data tools for Data Science"
   ]
  },
  {
   "cell_type": "markdown",
   "id": "2ec44b9e-0639-4997-9b3f-616c57b86d51",
   "metadata": {},
   "source": [
    "## Some of the popular languages that Data Scientists use are:\n",
    "1. Python\n",
    "2. R\n",
    "3. C++\n",
    "4. C\n",
    "5. SQL\n",
    "6. JavaScript"
   ]
  },
  {
   "cell_type": "markdown",
   "id": "1c68d34f-6362-41ab-a311-d398cd3ef1ee",
   "metadata": {},
   "source": [
    "## Some of the commonly used libraries used by Data Scientists include:\n",
    "1. NumPy\n",
    "2. Pandas\n",
    "3. Matplotlib\n",
    "4. Scikit-learn"
   ]
  },
  {
   "cell_type": "markdown",
   "id": "db722460-e9d7-4f4a-8d70-dbb1883384fc",
   "metadata": {},
   "source": [
    "|**Data Science Tools**|\n",
    "|----------------------|\n",
    "|RStudio|\n",
    "|Apache Spark|\n",
    "|TensorFlow|"
   ]
  },
  {
   "cell_type": "markdown",
   "id": "6952f7a9-e3cf-4431-87ab-58160d228bcf",
   "metadata": {},
   "source": [
    "### Below are a few examples of evaluating arithmetic expressions in Python"
   ]
  },
  {
   "cell_type": "markdown",
   "id": "695ecd50-1540-455e-a4d6-7e89dd8ff58a",
   "metadata": {
    "tags": []
   },
   "source": [
    "### This a simple arithmetic expression to multiply then add integers\n"
   ]
  },
  {
   "cell_type": "code",
   "execution_count": 4,
   "id": "ccfbda6c-9177-4a4f-8316-bcd916792a2a",
   "metadata": {},
   "outputs": [
    {
     "data": {
      "text/plain": [
       "17"
      ]
     },
     "execution_count": 4,
     "metadata": {},
     "output_type": "execute_result"
    }
   ],
   "source": [
    "(3*4)+5"
   ]
  },
  {
   "cell_type": "markdown",
   "id": "8309f534-9aea-44fe-8d24-8bdd97cc81f7",
   "metadata": {},
   "source": [
    "### This will covert 200 minutes to hours by dividing by 60"
   ]
  },
  {
   "cell_type": "code",
   "execution_count": 5,
   "id": "f9663c01-6609-42f9-911e-957c701ba79f",
   "metadata": {},
   "outputs": [
    {
     "data": {
      "text/plain": [
       "3.3333333333333335"
      ]
     },
     "execution_count": 5,
     "metadata": {},
     "output_type": "execute_result"
    }
   ],
   "source": [
    "200/60"
   ]
  },
  {
   "cell_type": "markdown",
   "id": "f870ad2c-6d7c-4ca1-9597-10d499fd5a92",
   "metadata": {},
   "source": [
    "## Author\n",
    "Michael Smyth"
   ]
  },
  {
   "cell_type": "code",
   "execution_count": null,
   "id": "5ffad2db-4e64-4a53-a4b1-f75dd35c826d",
   "metadata": {},
   "outputs": [],
   "source": []
  }
 ],
 "metadata": {
  "kernelspec": {
   "display_name": "Python",
   "language": "python",
   "name": "conda-env-python-py"
  },
  "language_info": {
   "codemirror_mode": {
    "name": "ipython",
    "version": 3
   },
   "file_extension": ".py",
   "mimetype": "text/x-python",
   "name": "python",
   "nbconvert_exporter": "python",
   "pygments_lexer": "ipython3",
   "version": "3.7.12"
  }
 },
 "nbformat": 4,
 "nbformat_minor": 5
}
